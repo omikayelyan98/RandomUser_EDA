{
 "cells": [
  {
   "cell_type": "markdown",
   "metadata": {},
   "source": [
    "## Import Libraries"
   ]
  },
  {
   "cell_type": "code",
   "execution_count": 1,
   "metadata": {},
   "outputs": [],
   "source": [
    "from pandas.io.json import json_normalize\n",
    "import json, requests\n",
    "import pandas as pd\n",
    "import numpy as np\n",
    "import seaborn as sns\n",
    "import matplotlib.pyplot as plt\n",
    "%matplotlib inline"
   ]
  },
  {
   "cell_type": "markdown",
   "metadata": {},
   "source": [
    "## The Data"
   ]
  },
  {
   "cell_type": "code",
   "execution_count": 2,
   "metadata": {},
   "outputs": [],
   "source": [
    "users_all = []"
   ]
  },
  {
   "cell_type": "code",
   "execution_count": 3,
   "metadata": {},
   "outputs": [],
   "source": [
    "for i in [0, 1]:\n",
    "    users_all += requests.get('https://randomuser.me/api/?results=5000').json()['results']"
   ]
  },
  {
   "cell_type": "code",
   "execution_count": 4,
   "metadata": {},
   "outputs": [],
   "source": [
    "df = json_normalize(users_all)"
   ]
  },
  {
   "cell_type": "code",
   "execution_count": 5,
   "metadata": {},
   "outputs": [
    {
     "data": {
      "text/html": [
       "<div>\n",
       "<style scoped>\n",
       "    .dataframe tbody tr th:only-of-type {\n",
       "        vertical-align: middle;\n",
       "    }\n",
       "\n",
       "    .dataframe tbody tr th {\n",
       "        vertical-align: top;\n",
       "    }\n",
       "\n",
       "    .dataframe thead th {\n",
       "        text-align: right;\n",
       "    }\n",
       "</style>\n",
       "<table border=\"1\" class=\"dataframe\">\n",
       "  <thead>\n",
       "    <tr style=\"text-align: right;\">\n",
       "      <th></th>\n",
       "      <th>gender</th>\n",
       "      <th>email</th>\n",
       "      <th>phone</th>\n",
       "      <th>cell</th>\n",
       "      <th>nat</th>\n",
       "      <th>name.title</th>\n",
       "      <th>name.first</th>\n",
       "      <th>name.last</th>\n",
       "      <th>location.street.number</th>\n",
       "      <th>location.street.name</th>\n",
       "      <th>...</th>\n",
       "      <th>login.sha256</th>\n",
       "      <th>dob.date</th>\n",
       "      <th>dob.age</th>\n",
       "      <th>registered.date</th>\n",
       "      <th>registered.age</th>\n",
       "      <th>id.name</th>\n",
       "      <th>id.value</th>\n",
       "      <th>picture.large</th>\n",
       "      <th>picture.medium</th>\n",
       "      <th>picture.thumbnail</th>\n",
       "    </tr>\n",
       "  </thead>\n",
       "  <tbody>\n",
       "    <tr>\n",
       "      <td>0</td>\n",
       "      <td>female</td>\n",
       "      <td>dulcineia.souza@example.com</td>\n",
       "      <td>(46) 3026-2437</td>\n",
       "      <td>(32) 3048-3903</td>\n",
       "      <td>BR</td>\n",
       "      <td>Ms</td>\n",
       "      <td>Dulcinéia</td>\n",
       "      <td>Souza</td>\n",
       "      <td>8158</td>\n",
       "      <td>Avenida da Legalidade</td>\n",
       "      <td>...</td>\n",
       "      <td>ea04f5e1108e15783a22f03e1bd9472d1ed12dee694e83...</td>\n",
       "      <td>1964-09-16T12:44:56.551Z</td>\n",
       "      <td>57</td>\n",
       "      <td>2002-06-07T17:24:19.478Z</td>\n",
       "      <td>19</td>\n",
       "      <td></td>\n",
       "      <td>None</td>\n",
       "      <td>https://randomuser.me/api/portraits/women/6.jpg</td>\n",
       "      <td>https://randomuser.me/api/portraits/med/women/...</td>\n",
       "      <td>https://randomuser.me/api/portraits/thumb/wome...</td>\n",
       "    </tr>\n",
       "    <tr>\n",
       "      <td>1</td>\n",
       "      <td>male</td>\n",
       "      <td>flenn.ford@example.com</td>\n",
       "      <td>013873 10360</td>\n",
       "      <td>0782-612-674</td>\n",
       "      <td>GB</td>\n",
       "      <td>Mr</td>\n",
       "      <td>Flenn</td>\n",
       "      <td>Ford</td>\n",
       "      <td>6378</td>\n",
       "      <td>Park Avenue</td>\n",
       "      <td>...</td>\n",
       "      <td>f31396a1bfacdf6e1fe4cbfa3235284d3958fb55e933c0...</td>\n",
       "      <td>1954-10-13T06:27:43.594Z</td>\n",
       "      <td>67</td>\n",
       "      <td>2003-04-19T06:24:33.147Z</td>\n",
       "      <td>18</td>\n",
       "      <td>NINO</td>\n",
       "      <td>YL 76 49 42 Y</td>\n",
       "      <td>https://randomuser.me/api/portraits/men/51.jpg</td>\n",
       "      <td>https://randomuser.me/api/portraits/med/men/51...</td>\n",
       "      <td>https://randomuser.me/api/portraits/thumb/men/...</td>\n",
       "    </tr>\n",
       "    <tr>\n",
       "      <td>2</td>\n",
       "      <td>male</td>\n",
       "      <td>lourival.viana@example.com</td>\n",
       "      <td>(06) 8089-1607</td>\n",
       "      <td>(01) 5915-4056</td>\n",
       "      <td>BR</td>\n",
       "      <td>Mr</td>\n",
       "      <td>Lourival</td>\n",
       "      <td>Viana</td>\n",
       "      <td>247</td>\n",
       "      <td>Rua Primeiro de Maio</td>\n",
       "      <td>...</td>\n",
       "      <td>ae3a94d23a7854271615bf9f8f9ee8d77e8f6922ddadfe...</td>\n",
       "      <td>1948-12-22T11:34:27.439Z</td>\n",
       "      <td>73</td>\n",
       "      <td>2010-01-31T05:21:27.935Z</td>\n",
       "      <td>11</td>\n",
       "      <td></td>\n",
       "      <td>None</td>\n",
       "      <td>https://randomuser.me/api/portraits/men/13.jpg</td>\n",
       "      <td>https://randomuser.me/api/portraits/med/men/13...</td>\n",
       "      <td>https://randomuser.me/api/portraits/thumb/men/...</td>\n",
       "    </tr>\n",
       "    <tr>\n",
       "      <td>3</td>\n",
       "      <td>male</td>\n",
       "      <td>claude.wright@example.com</td>\n",
       "      <td>021-874-1274</td>\n",
       "      <td>081-467-5369</td>\n",
       "      <td>IE</td>\n",
       "      <td>Mr</td>\n",
       "      <td>Claude</td>\n",
       "      <td>Wright</td>\n",
       "      <td>5579</td>\n",
       "      <td>Park Lane</td>\n",
       "      <td>...</td>\n",
       "      <td>7941c25ffda8e3b3a114ef09829fa01d8cc12eefd702e0...</td>\n",
       "      <td>1949-06-02T22:53:20.492Z</td>\n",
       "      <td>72</td>\n",
       "      <td>2019-06-13T03:46:57.053Z</td>\n",
       "      <td>2</td>\n",
       "      <td>PPS</td>\n",
       "      <td>6371458T</td>\n",
       "      <td>https://randomuser.me/api/portraits/men/20.jpg</td>\n",
       "      <td>https://randomuser.me/api/portraits/med/men/20...</td>\n",
       "      <td>https://randomuser.me/api/portraits/thumb/men/...</td>\n",
       "    </tr>\n",
       "    <tr>\n",
       "      <td>4</td>\n",
       "      <td>male</td>\n",
       "      <td>abdullah.kremser@example.com</td>\n",
       "      <td>0418-8958071</td>\n",
       "      <td>0175-9462414</td>\n",
       "      <td>DE</td>\n",
       "      <td>Mr</td>\n",
       "      <td>Abdullah</td>\n",
       "      <td>Kremser</td>\n",
       "      <td>6609</td>\n",
       "      <td>Lindenstraße</td>\n",
       "      <td>...</td>\n",
       "      <td>535e84d6b608827e097e2de6194fb4d12d69c767722161...</td>\n",
       "      <td>1949-03-29T11:24:39.237Z</td>\n",
       "      <td>72</td>\n",
       "      <td>2011-03-28T11:44:01.867Z</td>\n",
       "      <td>10</td>\n",
       "      <td></td>\n",
       "      <td>None</td>\n",
       "      <td>https://randomuser.me/api/portraits/men/44.jpg</td>\n",
       "      <td>https://randomuser.me/api/portraits/med/men/44...</td>\n",
       "      <td>https://randomuser.me/api/portraits/thumb/men/...</td>\n",
       "    </tr>\n",
       "  </tbody>\n",
       "</table>\n",
       "<p>5 rows × 34 columns</p>\n",
       "</div>"
      ],
      "text/plain": [
       "   gender                         email           phone            cell nat  \\\n",
       "0  female   dulcineia.souza@example.com  (46) 3026-2437  (32) 3048-3903  BR   \n",
       "1    male        flenn.ford@example.com    013873 10360    0782-612-674  GB   \n",
       "2    male    lourival.viana@example.com  (06) 8089-1607  (01) 5915-4056  BR   \n",
       "3    male     claude.wright@example.com    021-874-1274    081-467-5369  IE   \n",
       "4    male  abdullah.kremser@example.com    0418-8958071    0175-9462414  DE   \n",
       "\n",
       "  name.title name.first name.last  location.street.number  \\\n",
       "0         Ms  Dulcinéia     Souza                    8158   \n",
       "1         Mr      Flenn      Ford                    6378   \n",
       "2         Mr   Lourival     Viana                     247   \n",
       "3         Mr     Claude    Wright                    5579   \n",
       "4         Mr   Abdullah   Kremser                    6609   \n",
       "\n",
       "    location.street.name  ...  \\\n",
       "0  Avenida da Legalidade  ...   \n",
       "1            Park Avenue  ...   \n",
       "2  Rua Primeiro de Maio   ...   \n",
       "3              Park Lane  ...   \n",
       "4           Lindenstraße  ...   \n",
       "\n",
       "                                        login.sha256  \\\n",
       "0  ea04f5e1108e15783a22f03e1bd9472d1ed12dee694e83...   \n",
       "1  f31396a1bfacdf6e1fe4cbfa3235284d3958fb55e933c0...   \n",
       "2  ae3a94d23a7854271615bf9f8f9ee8d77e8f6922ddadfe...   \n",
       "3  7941c25ffda8e3b3a114ef09829fa01d8cc12eefd702e0...   \n",
       "4  535e84d6b608827e097e2de6194fb4d12d69c767722161...   \n",
       "\n",
       "                   dob.date dob.age           registered.date registered.age  \\\n",
       "0  1964-09-16T12:44:56.551Z      57  2002-06-07T17:24:19.478Z             19   \n",
       "1  1954-10-13T06:27:43.594Z      67  2003-04-19T06:24:33.147Z             18   \n",
       "2  1948-12-22T11:34:27.439Z      73  2010-01-31T05:21:27.935Z             11   \n",
       "3  1949-06-02T22:53:20.492Z      72  2019-06-13T03:46:57.053Z              2   \n",
       "4  1949-03-29T11:24:39.237Z      72  2011-03-28T11:44:01.867Z             10   \n",
       "\n",
       "  id.name       id.value                                    picture.large  \\\n",
       "0                   None  https://randomuser.me/api/portraits/women/6.jpg   \n",
       "1    NINO  YL 76 49 42 Y   https://randomuser.me/api/portraits/men/51.jpg   \n",
       "2                   None   https://randomuser.me/api/portraits/men/13.jpg   \n",
       "3     PPS       6371458T   https://randomuser.me/api/portraits/men/20.jpg   \n",
       "4                   None   https://randomuser.me/api/portraits/men/44.jpg   \n",
       "\n",
       "                                      picture.medium  \\\n",
       "0  https://randomuser.me/api/portraits/med/women/...   \n",
       "1  https://randomuser.me/api/portraits/med/men/51...   \n",
       "2  https://randomuser.me/api/portraits/med/men/13...   \n",
       "3  https://randomuser.me/api/portraits/med/men/20...   \n",
       "4  https://randomuser.me/api/portraits/med/men/44...   \n",
       "\n",
       "                                   picture.thumbnail  \n",
       "0  https://randomuser.me/api/portraits/thumb/wome...  \n",
       "1  https://randomuser.me/api/portraits/thumb/men/...  \n",
       "2  https://randomuser.me/api/portraits/thumb/men/...  \n",
       "3  https://randomuser.me/api/portraits/thumb/men/...  \n",
       "4  https://randomuser.me/api/portraits/thumb/men/...  \n",
       "\n",
       "[5 rows x 34 columns]"
      ]
     },
     "execution_count": 5,
     "metadata": {},
     "output_type": "execute_result"
    }
   ],
   "source": [
    "df.head()"
   ]
  },
  {
   "cell_type": "code",
   "execution_count": 6,
   "metadata": {},
   "outputs": [
    {
     "data": {
      "text/html": [
       "<div>\n",
       "<style scoped>\n",
       "    .dataframe tbody tr th:only-of-type {\n",
       "        vertical-align: middle;\n",
       "    }\n",
       "\n",
       "    .dataframe tbody tr th {\n",
       "        vertical-align: top;\n",
       "    }\n",
       "\n",
       "    .dataframe thead th {\n",
       "        text-align: right;\n",
       "    }\n",
       "</style>\n",
       "<table border=\"1\" class=\"dataframe\">\n",
       "  <thead>\n",
       "    <tr style=\"text-align: right;\">\n",
       "      <th></th>\n",
       "      <th>gender</th>\n",
       "      <th>email</th>\n",
       "      <th>phone</th>\n",
       "      <th>cell</th>\n",
       "      <th>nat</th>\n",
       "      <th>name.title</th>\n",
       "      <th>name.first</th>\n",
       "      <th>name.last</th>\n",
       "      <th>location.street.number</th>\n",
       "      <th>location.street.name</th>\n",
       "      <th>...</th>\n",
       "      <th>login.sha256</th>\n",
       "      <th>dob.date</th>\n",
       "      <th>dob.age</th>\n",
       "      <th>registered.date</th>\n",
       "      <th>registered.age</th>\n",
       "      <th>id.name</th>\n",
       "      <th>id.value</th>\n",
       "      <th>picture.large</th>\n",
       "      <th>picture.medium</th>\n",
       "      <th>picture.thumbnail</th>\n",
       "    </tr>\n",
       "  </thead>\n",
       "  <tbody>\n",
       "    <tr>\n",
       "      <td>9995</td>\n",
       "      <td>male</td>\n",
       "      <td>franklin.mendes@example.com</td>\n",
       "      <td>(89) 6435-3404</td>\n",
       "      <td>(92) 4138-6135</td>\n",
       "      <td>BR</td>\n",
       "      <td>Mr</td>\n",
       "      <td>Franklin</td>\n",
       "      <td>Mendes</td>\n",
       "      <td>8203</td>\n",
       "      <td>Rua Mato Grosso</td>\n",
       "      <td>...</td>\n",
       "      <td>c42d4f1fceef2ed7203677575c74989cee1138a2724e5d...</td>\n",
       "      <td>1969-12-24T03:53:37.048Z</td>\n",
       "      <td>52</td>\n",
       "      <td>2009-03-30T13:40:48.008Z</td>\n",
       "      <td>12</td>\n",
       "      <td></td>\n",
       "      <td>None</td>\n",
       "      <td>https://randomuser.me/api/portraits/men/74.jpg</td>\n",
       "      <td>https://randomuser.me/api/portraits/med/men/74...</td>\n",
       "      <td>https://randomuser.me/api/portraits/thumb/men/...</td>\n",
       "    </tr>\n",
       "    <tr>\n",
       "      <td>9996</td>\n",
       "      <td>female</td>\n",
       "      <td>norah.fournier@example.com</td>\n",
       "      <td>02-02-96-70-58</td>\n",
       "      <td>06-04-58-42-69</td>\n",
       "      <td>FR</td>\n",
       "      <td>Mrs</td>\n",
       "      <td>Norah</td>\n",
       "      <td>Fournier</td>\n",
       "      <td>9301</td>\n",
       "      <td>Esplanade du 9 Novembre 1989</td>\n",
       "      <td>...</td>\n",
       "      <td>c5fd875dad4e2972546555b8e9cb91064e3031a4000ebf...</td>\n",
       "      <td>1996-01-27T11:32:15.601Z</td>\n",
       "      <td>25</td>\n",
       "      <td>2009-06-22T11:24:32.074Z</td>\n",
       "      <td>12</td>\n",
       "      <td>INSEE</td>\n",
       "      <td>2NNaN78991398 25</td>\n",
       "      <td>https://randomuser.me/api/portraits/women/49.jpg</td>\n",
       "      <td>https://randomuser.me/api/portraits/med/women/...</td>\n",
       "      <td>https://randomuser.me/api/portraits/thumb/wome...</td>\n",
       "    </tr>\n",
       "    <tr>\n",
       "      <td>9997</td>\n",
       "      <td>female</td>\n",
       "      <td>liliane.fogaca@example.com</td>\n",
       "      <td>(18) 6776-7862</td>\n",
       "      <td>(53) 2177-3026</td>\n",
       "      <td>BR</td>\n",
       "      <td>Ms</td>\n",
       "      <td>Liliane</td>\n",
       "      <td>Fogaça</td>\n",
       "      <td>9622</td>\n",
       "      <td>Travessa dos Açorianos</td>\n",
       "      <td>...</td>\n",
       "      <td>bdce128fd88703aee32ebaa61358a7a72a8a69556ab38a...</td>\n",
       "      <td>1956-12-24T12:29:33.003Z</td>\n",
       "      <td>65</td>\n",
       "      <td>2017-02-25T22:17:59.851Z</td>\n",
       "      <td>4</td>\n",
       "      <td></td>\n",
       "      <td>None</td>\n",
       "      <td>https://randomuser.me/api/portraits/women/61.jpg</td>\n",
       "      <td>https://randomuser.me/api/portraits/med/women/...</td>\n",
       "      <td>https://randomuser.me/api/portraits/thumb/wome...</td>\n",
       "    </tr>\n",
       "    <tr>\n",
       "      <td>9998</td>\n",
       "      <td>male</td>\n",
       "      <td>mhmdmyn.mwswy@example.com</td>\n",
       "      <td>039-65310076</td>\n",
       "      <td>0979-039-9850</td>\n",
       "      <td>IR</td>\n",
       "      <td>Mr</td>\n",
       "      <td>محمدامين</td>\n",
       "      <td>موسوی</td>\n",
       "      <td>8941</td>\n",
       "      <td>میدان رسالت</td>\n",
       "      <td>...</td>\n",
       "      <td>20d7b2fd539fd90b9e988f696c5cb27cd238556a1a01da...</td>\n",
       "      <td>1947-04-28T09:25:43.315Z</td>\n",
       "      <td>74</td>\n",
       "      <td>2015-05-19T18:38:24.051Z</td>\n",
       "      <td>6</td>\n",
       "      <td></td>\n",
       "      <td>None</td>\n",
       "      <td>https://randomuser.me/api/portraits/men/48.jpg</td>\n",
       "      <td>https://randomuser.me/api/portraits/med/men/48...</td>\n",
       "      <td>https://randomuser.me/api/portraits/thumb/men/...</td>\n",
       "    </tr>\n",
       "    <tr>\n",
       "      <td>9999</td>\n",
       "      <td>female</td>\n",
       "      <td>oya.koyluoglu@example.com</td>\n",
       "      <td>(909)-940-3865</td>\n",
       "      <td>(456)-450-1535</td>\n",
       "      <td>TR</td>\n",
       "      <td>Miss</td>\n",
       "      <td>Oya</td>\n",
       "      <td>Köylüoğlu</td>\n",
       "      <td>5685</td>\n",
       "      <td>Kushimoto Sk</td>\n",
       "      <td>...</td>\n",
       "      <td>ea41d805e255c423635c9a865ad63ff3dd9fa1782dfc8c...</td>\n",
       "      <td>1980-02-01T01:07:18.687Z</td>\n",
       "      <td>41</td>\n",
       "      <td>2008-02-28T02:50:04.642Z</td>\n",
       "      <td>13</td>\n",
       "      <td></td>\n",
       "      <td>None</td>\n",
       "      <td>https://randomuser.me/api/portraits/women/39.jpg</td>\n",
       "      <td>https://randomuser.me/api/portraits/med/women/...</td>\n",
       "      <td>https://randomuser.me/api/portraits/thumb/wome...</td>\n",
       "    </tr>\n",
       "  </tbody>\n",
       "</table>\n",
       "<p>5 rows × 34 columns</p>\n",
       "</div>"
      ],
      "text/plain": [
       "      gender                        email           phone            cell nat  \\\n",
       "9995    male  franklin.mendes@example.com  (89) 6435-3404  (92) 4138-6135  BR   \n",
       "9996  female   norah.fournier@example.com  02-02-96-70-58  06-04-58-42-69  FR   \n",
       "9997  female   liliane.fogaca@example.com  (18) 6776-7862  (53) 2177-3026  BR   \n",
       "9998    male    mhmdmyn.mwswy@example.com    039-65310076   0979-039-9850  IR   \n",
       "9999  female    oya.koyluoglu@example.com  (909)-940-3865  (456)-450-1535  TR   \n",
       "\n",
       "     name.title name.first  name.last  location.street.number  \\\n",
       "9995         Mr   Franklin     Mendes                    8203   \n",
       "9996        Mrs      Norah   Fournier                    9301   \n",
       "9997         Ms    Liliane     Fogaça                    9622   \n",
       "9998         Mr   محمدامين      موسوی                    8941   \n",
       "9999       Miss        Oya  Köylüoğlu                    5685   \n",
       "\n",
       "              location.street.name  ...  \\\n",
       "9995              Rua Mato Grosso   ...   \n",
       "9996  Esplanade du 9 Novembre 1989  ...   \n",
       "9997        Travessa dos Açorianos  ...   \n",
       "9998                   میدان رسالت  ...   \n",
       "9999                  Kushimoto Sk  ...   \n",
       "\n",
       "                                           login.sha256  \\\n",
       "9995  c42d4f1fceef2ed7203677575c74989cee1138a2724e5d...   \n",
       "9996  c5fd875dad4e2972546555b8e9cb91064e3031a4000ebf...   \n",
       "9997  bdce128fd88703aee32ebaa61358a7a72a8a69556ab38a...   \n",
       "9998  20d7b2fd539fd90b9e988f696c5cb27cd238556a1a01da...   \n",
       "9999  ea41d805e255c423635c9a865ad63ff3dd9fa1782dfc8c...   \n",
       "\n",
       "                      dob.date dob.age           registered.date  \\\n",
       "9995  1969-12-24T03:53:37.048Z      52  2009-03-30T13:40:48.008Z   \n",
       "9996  1996-01-27T11:32:15.601Z      25  2009-06-22T11:24:32.074Z   \n",
       "9997  1956-12-24T12:29:33.003Z      65  2017-02-25T22:17:59.851Z   \n",
       "9998  1947-04-28T09:25:43.315Z      74  2015-05-19T18:38:24.051Z   \n",
       "9999  1980-02-01T01:07:18.687Z      41  2008-02-28T02:50:04.642Z   \n",
       "\n",
       "     registered.age id.name          id.value  \\\n",
       "9995             12                      None   \n",
       "9996             12   INSEE  2NNaN78991398 25   \n",
       "9997              4                      None   \n",
       "9998              6                      None   \n",
       "9999             13                      None   \n",
       "\n",
       "                                         picture.large  \\\n",
       "9995    https://randomuser.me/api/portraits/men/74.jpg   \n",
       "9996  https://randomuser.me/api/portraits/women/49.jpg   \n",
       "9997  https://randomuser.me/api/portraits/women/61.jpg   \n",
       "9998    https://randomuser.me/api/portraits/men/48.jpg   \n",
       "9999  https://randomuser.me/api/portraits/women/39.jpg   \n",
       "\n",
       "                                         picture.medium  \\\n",
       "9995  https://randomuser.me/api/portraits/med/men/74...   \n",
       "9996  https://randomuser.me/api/portraits/med/women/...   \n",
       "9997  https://randomuser.me/api/portraits/med/women/...   \n",
       "9998  https://randomuser.me/api/portraits/med/men/48...   \n",
       "9999  https://randomuser.me/api/portraits/med/women/...   \n",
       "\n",
       "                                      picture.thumbnail  \n",
       "9995  https://randomuser.me/api/portraits/thumb/men/...  \n",
       "9996  https://randomuser.me/api/portraits/thumb/wome...  \n",
       "9997  https://randomuser.me/api/portraits/thumb/wome...  \n",
       "9998  https://randomuser.me/api/portraits/thumb/men/...  \n",
       "9999  https://randomuser.me/api/portraits/thumb/wome...  \n",
       "\n",
       "[5 rows x 34 columns]"
      ]
     },
     "execution_count": 6,
     "metadata": {},
     "output_type": "execute_result"
    }
   ],
   "source": [
    "df.tail()"
   ]
  },
  {
   "cell_type": "markdown",
   "metadata": {},
   "source": [
    "## Exploratory Data Analysis"
   ]
  },
  {
   "cell_type": "code",
   "execution_count": 7,
   "metadata": {
    "scrolled": true
   },
   "outputs": [
    {
     "data": {
      "text/html": [
       "<div>\n",
       "<style scoped>\n",
       "    .dataframe tbody tr th:only-of-type {\n",
       "        vertical-align: middle;\n",
       "    }\n",
       "\n",
       "    .dataframe tbody tr th {\n",
       "        vertical-align: top;\n",
       "    }\n",
       "\n",
       "    .dataframe thead th {\n",
       "        text-align: right;\n",
       "    }\n",
       "</style>\n",
       "<table border=\"1\" class=\"dataframe\">\n",
       "  <thead>\n",
       "    <tr style=\"text-align: right;\">\n",
       "      <th></th>\n",
       "      <th>location.street.number</th>\n",
       "      <th>dob.age</th>\n",
       "      <th>registered.age</th>\n",
       "    </tr>\n",
       "  </thead>\n",
       "  <tbody>\n",
       "    <tr>\n",
       "      <td>count</td>\n",
       "      <td>10000.000000</td>\n",
       "      <td>10000.000000</td>\n",
       "      <td>10000.000000</td>\n",
       "    </tr>\n",
       "    <tr>\n",
       "      <td>mean</td>\n",
       "      <td>5027.184100</td>\n",
       "      <td>49.705900</td>\n",
       "      <td>10.527700</td>\n",
       "    </tr>\n",
       "    <tr>\n",
       "      <td>std</td>\n",
       "      <td>2871.262411</td>\n",
       "      <td>15.624878</td>\n",
       "      <td>5.083465</td>\n",
       "    </tr>\n",
       "    <tr>\n",
       "      <td>min</td>\n",
       "      <td>1.000000</td>\n",
       "      <td>23.000000</td>\n",
       "      <td>2.000000</td>\n",
       "    </tr>\n",
       "    <tr>\n",
       "      <td>25%</td>\n",
       "      <td>2551.750000</td>\n",
       "      <td>36.000000</td>\n",
       "      <td>6.000000</td>\n",
       "    </tr>\n",
       "    <tr>\n",
       "      <td>50%</td>\n",
       "      <td>5019.000000</td>\n",
       "      <td>50.000000</td>\n",
       "      <td>11.000000</td>\n",
       "    </tr>\n",
       "    <tr>\n",
       "      <td>75%</td>\n",
       "      <td>7498.500000</td>\n",
       "      <td>63.000000</td>\n",
       "      <td>15.000000</td>\n",
       "    </tr>\n",
       "    <tr>\n",
       "      <td>max</td>\n",
       "      <td>9996.000000</td>\n",
       "      <td>77.000000</td>\n",
       "      <td>19.000000</td>\n",
       "    </tr>\n",
       "  </tbody>\n",
       "</table>\n",
       "</div>"
      ],
      "text/plain": [
       "       location.street.number       dob.age  registered.age\n",
       "count            10000.000000  10000.000000    10000.000000\n",
       "mean              5027.184100     49.705900       10.527700\n",
       "std               2871.262411     15.624878        5.083465\n",
       "min                  1.000000     23.000000        2.000000\n",
       "25%               2551.750000     36.000000        6.000000\n",
       "50%               5019.000000     50.000000       11.000000\n",
       "75%               7498.500000     63.000000       15.000000\n",
       "max               9996.000000     77.000000       19.000000"
      ]
     },
     "execution_count": 7,
     "metadata": {},
     "output_type": "execute_result"
    }
   ],
   "source": [
    "df.describe()"
   ]
  },
  {
   "cell_type": "code",
   "execution_count": 8,
   "metadata": {},
   "outputs": [
    {
     "data": {
      "text/plain": [
       "(10000, 34)"
      ]
     },
     "execution_count": 8,
     "metadata": {},
     "output_type": "execute_result"
    }
   ],
   "source": [
    "df.shape"
   ]
  },
  {
   "cell_type": "code",
   "execution_count": 9,
   "metadata": {},
   "outputs": [
    {
     "data": {
      "text/plain": [
       "Index(['gender', 'email', 'phone', 'cell', 'nat', 'name.title', 'name.first',\n",
       "       'name.last', 'location.street.number', 'location.street.name',\n",
       "       'location.city', 'location.state', 'location.country',\n",
       "       'location.postcode', 'location.coordinates.latitude',\n",
       "       'location.coordinates.longitude', 'location.timezone.offset',\n",
       "       'location.timezone.description', 'login.uuid', 'login.username',\n",
       "       'login.password', 'login.salt', 'login.md5', 'login.sha1',\n",
       "       'login.sha256', 'dob.date', 'dob.age', 'registered.date',\n",
       "       'registered.age', 'id.name', 'id.value', 'picture.large',\n",
       "       'picture.medium', 'picture.thumbnail'],\n",
       "      dtype='object')"
      ]
     },
     "execution_count": 9,
     "metadata": {},
     "output_type": "execute_result"
    }
   ],
   "source": [
    "df.columns"
   ]
  },
  {
   "cell_type": "code",
   "execution_count": 10,
   "metadata": {},
   "outputs": [
    {
     "data": {
      "text/plain": [
       "gender                                2\n",
       "email                              9755\n",
       "phone                             10000\n",
       "cell                              10000\n",
       "nat                                  17\n",
       "name.title                            7\n",
       "name.first                         3287\n",
       "name.last                          2616\n",
       "location.street.number             6380\n",
       "location.street.name               2404\n",
       "location.city                      3423\n",
       "location.state                      545\n",
       "location.country                     17\n",
       "location.postcode                  9634\n",
       "location.coordinates.latitude      9972\n",
       "location.coordinates.longitude     9987\n",
       "location.timezone.offset             30\n",
       "location.timezone.description        30\n",
       "login.uuid                        10000\n",
       "login.username                     9885\n",
       "login.password                     5639\n",
       "login.salt                        10000\n",
       "login.md5                         10000\n",
       "login.sha1                        10000\n",
       "login.sha256                      10000\n",
       "dob.date                          10000\n",
       "dob.age                              55\n",
       "registered.date                   10000\n",
       "registered.age                       18\n",
       "id.name                              12\n",
       "id.value                           6324\n",
       "picture.large                       197\n",
       "picture.medium                      197\n",
       "picture.thumbnail                   197\n",
       "dtype: int64"
      ]
     },
     "execution_count": 10,
     "metadata": {},
     "output_type": "execute_result"
    }
   ],
   "source": [
    "df.nunique()"
   ]
  },
  {
   "cell_type": "markdown",
   "metadata": {},
   "source": [
    "### Missing Data"
   ]
  },
  {
   "cell_type": "code",
   "execution_count": 11,
   "metadata": {},
   "outputs": [
    {
     "data": {
      "text/plain": [
       "gender                               0\n",
       "email                                0\n",
       "phone                                0\n",
       "cell                                 0\n",
       "nat                                  0\n",
       "name.title                           0\n",
       "name.first                           0\n",
       "name.last                            0\n",
       "location.street.number               0\n",
       "location.street.name                 0\n",
       "location.city                        0\n",
       "location.state                       0\n",
       "location.country                     0\n",
       "location.postcode                    0\n",
       "location.coordinates.latitude        0\n",
       "location.coordinates.longitude       0\n",
       "location.timezone.offset             0\n",
       "location.timezone.description        0\n",
       "login.uuid                           0\n",
       "login.username                       0\n",
       "login.password                       0\n",
       "login.salt                           0\n",
       "login.md5                            0\n",
       "login.sha1                           0\n",
       "login.sha256                         0\n",
       "dob.date                             0\n",
       "dob.age                              0\n",
       "registered.date                      0\n",
       "registered.age                       0\n",
       "id.name                              0\n",
       "id.value                          3533\n",
       "picture.large                        0\n",
       "picture.medium                       0\n",
       "picture.thumbnail                    0\n",
       "dtype: int64"
      ]
     },
     "execution_count": 11,
     "metadata": {},
     "output_type": "execute_result"
    }
   ],
   "source": [
    "df.isnull().sum()"
   ]
  },
  {
   "cell_type": "code",
   "execution_count": 12,
   "metadata": {},
   "outputs": [
    {
     "data": {
      "text/plain": [
       "<matplotlib.axes._subplots.AxesSubplot at 0x17865537e48>"
      ]
     },
     "execution_count": 12,
     "metadata": {},
     "output_type": "execute_result"
    },
    {
     "data": {
      "image/png": "[encoded data removed]",
      "text/plain": [
       "<Figure size 432x288 with 2 Axes>"
      ]
     },
     "metadata": {
      "needs_background": "light"
     },
     "output_type": "display_data"
    }
   ],
   "source": [
    "sns.heatmap(df.isnull(), yticklabels=False, cmap='viridis')"
   ]
  },
  {
   "cell_type": "markdown",
   "metadata": {},
   "source": [
    "### Visualization"
   ]
  },
  {
   "cell_type": "code",
   "execution_count": 13,
   "metadata": {},
   "outputs": [
    {
     "data": {
      "text/plain": [
       "<matplotlib.axes._subplots.AxesSubplot at 0x17861172d88>"
      ]
     },
     "execution_count": 13,
     "metadata": {},
     "output_type": "execute_result"
    },
    {
     "data": {
      "image/png": "[encoded data removed]",
      "text/plain": [
       "<Figure size 432x288 with 1 Axes>"
      ]
     },
     "metadata": {},
     "output_type": "display_data"
    }
   ],
   "source": [
    "sns.set_style('whitegrid')\n",
    "sns.countplot(x='gender', data=df)"
   ]
  },
  {
   "cell_type": "code",
   "execution_count": 14,
   "metadata": {},
   "outputs": [
    {
     "data": {
      "text/plain": [
       "<matplotlib.axes._subplots.AxesSubplot at 0x178611aa208>"
      ]
     },
     "execution_count": 14,
     "metadata": {},
     "output_type": "execute_result"
    },
    {
     "data": {
      "image/png": "[encoded data removed]",
      "text/plain": [
       "<Figure size 432x288 with 1 Axes>"
      ]
     },
     "metadata": {},
     "output_type": "display_data"
    }
   ],
   "source": [
    "sns.set_style('whitegrid')\n",
    "sns.countplot(x='gender', hue='location.country', data=df, palette='RdBu_r')"
   ]
  },
  {
   "cell_type": "code",
   "execution_count": 15,
   "metadata": {},
   "outputs": [
    {
     "data": {
      "text/plain": [
       "<matplotlib.axes._subplots.AxesSubplot at 0x17862799848>"
      ]
     },
     "execution_count": 15,
     "metadata": {},
     "output_type": "execute_result"
    },
    {
     "data": {
      "image/png": "[encoded data removed]",
      "text/plain": [
       "<Figure size 432x288 with 1 Axes>"
      ]
     },
     "metadata": {},
     "output_type": "display_data"
    }
   ],
   "source": [
    "sns.set_style('whitegrid')\n",
    "sns.countplot(x='gender', hue='dob.age', data=df, palette='rainbow')"
   ]
  },
  {
   "cell_type": "code",
   "execution_count": 16,
   "metadata": {
    "scrolled": true
   },
   "outputs": [
    {
     "data": {
      "text/plain": [
       "<matplotlib.axes._subplots.AxesSubplot at 0x17862794c88>"
      ]
     },
     "execution_count": 16,
     "metadata": {},
     "output_type": "execute_result"
    },
    {
     "data": {
      "image/png": "[encoded data removed]",
      "text/plain": [
       "<Figure size 432x288 with 1 Axes>"
      ]
     },
     "metadata": {},
     "output_type": "display_data"
    }
   ],
   "source": [
    "sns.distplot(df['registered.age'], kde=False, color='darkred', bins=40)"
   ]
  },
  {
   "cell_type": "code",
   "execution_count": 17,
   "metadata": {},
   "outputs": [
    {
     "data": {
      "text/plain": [
       "<matplotlib.axes._subplots.AxesSubplot at 0x17862aef208>"
      ]
     },
     "execution_count": 17,
     "metadata": {},
     "output_type": "execute_result"
    },
    {
     "data": {
      "image/png": "[encoded data removed]",
      "text/plain": [
       "<Figure size 432x288 with 1 Axes>"
      ]
     },
     "metadata": {},
     "output_type": "display_data"
    }
   ],
   "source": [
    "sns.distplot(df['dob.age'], kde=False, color='blue', bins=40)"
   ]
  },
  {
   "cell_type": "code",
   "execution_count": 18,
   "metadata": {},
   "outputs": [
    {
     "data": {
      "text/plain": [
       "<matplotlib.axes._subplots.AxesSubplot at 0x1786315cd88>"
      ]
     },
     "execution_count": 18,
     "metadata": {},
     "output_type": "execute_result"
    },
    {
     "data": {
      "image/png": "[encoded data removed]",
      "text/plain": [
       "<Figure size 432x288 with 1 Axes>"
      ]
     },
     "metadata": {},
     "output_type": "display_data"
    }
   ],
   "source": [
    "sns.countplot(x='nat', data=df)"
   ]
  },
  {
   "cell_type": "code",
   "execution_count": 19,
   "metadata": {
    "scrolled": true
   },
   "outputs": [
    {
     "data": {
      "text/html": [
       "<div>\n",
       "<style scoped>\n",
       "    .dataframe tbody tr th:only-of-type {\n",
       "        vertical-align: middle;\n",
       "    }\n",
       "\n",
       "    .dataframe tbody tr th {\n",
       "        vertical-align: top;\n",
       "    }\n",
       "\n",
       "    .dataframe thead th {\n",
       "        text-align: right;\n",
       "    }\n",
       "</style>\n",
       "<table border=\"1\" class=\"dataframe\">\n",
       "  <thead>\n",
       "    <tr style=\"text-align: right;\">\n",
       "      <th></th>\n",
       "      <th>location.street.number</th>\n",
       "      <th>dob.age</th>\n",
       "      <th>registered.age</th>\n",
       "    </tr>\n",
       "  </thead>\n",
       "  <tbody>\n",
       "    <tr>\n",
       "      <td>location.street.number</td>\n",
       "      <td>1.000000</td>\n",
       "      <td>0.010458</td>\n",
       "      <td>-0.001434</td>\n",
       "    </tr>\n",
       "    <tr>\n",
       "      <td>dob.age</td>\n",
       "      <td>0.010458</td>\n",
       "      <td>1.000000</td>\n",
       "      <td>-0.012784</td>\n",
       "    </tr>\n",
       "    <tr>\n",
       "      <td>registered.age</td>\n",
       "      <td>-0.001434</td>\n",
       "      <td>-0.012784</td>\n",
       "      <td>1.000000</td>\n",
       "    </tr>\n",
       "  </tbody>\n",
       "</table>\n",
       "</div>"
      ],
      "text/plain": [
       "                        location.street.number   dob.age  registered.age\n",
       "location.street.number                1.000000  0.010458       -0.001434\n",
       "dob.age                               0.010458  1.000000       -0.012784\n",
       "registered.age                       -0.001434 -0.012784        1.000000"
      ]
     },
     "execution_count": 19,
     "metadata": {},
     "output_type": "execute_result"
    }
   ],
   "source": [
    "df.corr()"
   ]
  },
  {
   "cell_type": "code",
   "execution_count": 20,
   "metadata": {},
   "outputs": [
    {
     "data": {
      "text/plain": [
       "<matplotlib.axes._subplots.AxesSubplot at 0x178652369c8>"
      ]
     },
     "execution_count": 20,
     "metadata": {},
     "output_type": "execute_result"
    },
    {
     "data": {
      "image/png": "[encoded data removed]",
      "text/plain": [
       "<Figure size 432x288 with 2 Axes>"
      ]
     },
     "metadata": {},
     "output_type": "display_data"
    }
   ],
   "source": [
    "sns.heatmap(df.corr(), annot=True)"
   ]
  },
  {
   "cell_type": "markdown",
   "metadata": {},
   "source": [
    "### Data Cleaning"
   ]
  },
  {
   "cell_type": "code",
   "execution_count": 21,
   "metadata": {},
   "outputs": [],
   "source": [
    "df1=df.fillna(method='ffill')"
   ]
  },
  {
   "cell_type": "code",
   "execution_count": 22,
   "metadata": {
    "scrolled": true
   },
   "outputs": [
    {
     "data": {
      "text/plain": [
       "<matplotlib.axes._subplots.AxesSubplot at 0x178652db908>"
      ]
     },
     "execution_count": 22,
     "metadata": {},
     "output_type": "execute_result"
    },
    {
     "data": {
      "image/png": "[encoded data removed]",
      "text/plain": [
       "<Figure size 432x288 with 2 Axes>"
      ]
     },
     "metadata": {},
     "output_type": "display_data"
    }
   ],
   "source": [
    "sns.heatmap(df1.isnull(), yticklabels=False, cmap='viridis')"
   ]
  },
  {
   "cell_type": "code",
   "execution_count": null,
   "metadata": {},
   "outputs": [],
   "source": []
  }
 ],
 "metadata": {
  "kernelspec": {
   "display_name": "Python 3",
   "language": "python",
   "name": "python3"
  },
  "language_info": {
   "codemirror_mode": {
    "name": "ipython",
    "version": 3
   },
   "file_extension": ".py",
   "mimetype": "text/x-python",
   "name": "python",
   "nbconvert_exporter": "python",
   "pygments_lexer": "ipython3",
   "version": "3.7.4"
  }
 },
 "nbformat": 4,
 "nbformat_minor": 2
}
